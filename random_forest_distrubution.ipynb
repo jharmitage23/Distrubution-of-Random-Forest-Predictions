{
 "cells": [
  {
   "cell_type": "markdown",
   "metadata": {},
   "source": [
    "### Visualizing the Distrubitions of Predictions from a Random Forest"
   ]
  },
  {
   "cell_type": "markdown",
   "metadata": {},
   "source": [
    "#### Introduction\n",
    "\n",
    "Random forests are an ensemble method. It constructs many decision trees and aggregates them via majority vote (classification) or by taking the mean (regression). Therefore in the end one prediction is given for each instance. This is great becasue most data scientists want / need a point estimate, but what if an interval estimate is desired? This is where knowing the distrubution of the of the individual predictions comes into play. Using Python and sklearn I will demonstrate how to pull out each instances predictions from a random forest.\n",
    "\n",
    "#### Dataset\n",
    "\n",
    "I am going to demonstrate this tactic using a dataset scraped from www.basketball-reference.com. See below for a link to GitHub repository that holds the data and code. Our goal is to obtain the predictions from a model that does the following: predict a player's minutes played during the 2018 NBA season given data from the 2017 NBA season. To be included in the dataset a player has to have played in both seasons.\n",
    "\n",
    "Lets start by importing the necessary packages, loading the dataset and setting all the null values to 0 (setting the null values to 0 is not best practice but is done for simplicity):"
   ]
  },
  {
   "cell_type": "code",
   "execution_count": 104,
   "metadata": {
    "collapsed": true
   },
   "outputs": [],
   "source": [
    "import pandas as pd\n",
    "import numpy as np\n",
    "from sklearn.ensemble import RandomForestRegressor\n",
    "import matplotlib.pyplot as plt\n",
    "import seaborn as sns\n",
    "%matplotlib inline"
   ]
  },
  {
   "cell_type": "code",
   "execution_count": 105,
   "metadata": {
    "collapsed": true
   },
   "outputs": [],
   "source": [
    "# this is hardcoded to where I stored the file\n",
    "nba_df = pd.read_csv('data/totals_1976_2018.csv')\n",
    "nba_df.fillna(0, inplace=True)"
   ]
  },
  {
   "cell_type": "markdown",
   "metadata": {},
   "source": [
    "We will create two seperate dataframes. One will hold the 2017 data and the other will hold the 2018 data. Only two columns will be kept in the 2018 dataframe since we are, a player identifier ('playerid') and the label / response ('mp' -- which will be renamed 'mp2018') that we are trying to predict."
   ]
  },
  {
   "cell_type": "code",
   "execution_count": 106,
   "metadata": {
    "collapsed": true
   },
   "outputs": [],
   "source": [
    "nba2017 = nba_df.loc[nba_df['year'] == 2017].reset_index(drop=True)\n",
    "nba2018 = nba_df.loc[nba_df['year'] == 2018, ['playerid', 'mp']].reset_index(drop=True)\n",
    "\n",
    "nba2018.rename(columns={'mp': 'mp2018'}, inplace=True)"
   ]
  },
  {
   "cell_type": "markdown",
   "metadata": {},
   "source": [
    "As previoulsy mentioned only observations that appear in both seasons should appear in our final dataframe. We accomplish this by using the 'isin' operator available in pandas."
   ]
  },
  {
   "cell_type": "code",
   "execution_count": 107,
   "metadata": {
    "collapsed": true
   },
   "outputs": [],
   "source": [
    "final_df = nba2017[nba2017['playerid'].isin(nba2018['playerid'].tolist())]"
   ]
  },
  {
   "cell_type": "markdown",
   "metadata": {},
   "source": [
    "To complete our final dataframe, 'final_df', we will merge the response from 'nba2018' into it."
   ]
  },
  {
   "cell_type": "code",
   "execution_count": 108,
   "metadata": {
    "collapsed": true
   },
   "outputs": [],
   "source": [
    "final_df = pd.merge(final_df,\n",
    "                    nba2018,\n",
    "                    on=['playerid'],\n",
    "                    how='left')"
   ]
  },
  {
   "cell_type": "markdown",
   "metadata": {},
   "source": [
    "Lets look at the top 3 rows of 'final_df' and the the first 10 columns:"
   ]
  },
  {
   "cell_type": "code",
   "execution_count": 109,
   "metadata": {},
   "outputs": [
    {
     "data": {
      "text/html": [
       "<div>\n",
       "<style>\n",
       "    .dataframe thead tr:only-child th {\n",
       "        text-align: right;\n",
       "    }\n",
       "\n",
       "    .dataframe thead th {\n",
       "        text-align: left;\n",
       "    }\n",
       "\n",
       "    .dataframe tbody tr th {\n",
       "        vertical-align: top;\n",
       "    }\n",
       "</style>\n",
       "<table border=\"1\" class=\"dataframe\">\n",
       "  <thead>\n",
       "    <tr style=\"text-align: right;\">\n",
       "      <th></th>\n",
       "      <th>year</th>\n",
       "      <th>player</th>\n",
       "      <th>playerid</th>\n",
       "      <th>pos</th>\n",
       "      <th>age</th>\n",
       "      <th>tm</th>\n",
       "      <th>g</th>\n",
       "      <th>gs</th>\n",
       "      <th>mp</th>\n",
       "      <th>fg_totals</th>\n",
       "    </tr>\n",
       "  </thead>\n",
       "  <tbody>\n",
       "    <tr>\n",
       "      <th>0</th>\n",
       "      <td>2017</td>\n",
       "      <td>Alex Abrines</td>\n",
       "      <td>abrinal01</td>\n",
       "      <td>SG</td>\n",
       "      <td>23</td>\n",
       "      <td>OKC</td>\n",
       "      <td>68</td>\n",
       "      <td>6.0</td>\n",
       "      <td>1055</td>\n",
       "      <td>134</td>\n",
       "    </tr>\n",
       "    <tr>\n",
       "      <th>1</th>\n",
       "      <td>2017</td>\n",
       "      <td>Quincy Acy</td>\n",
       "      <td>acyqu01</td>\n",
       "      <td>PF</td>\n",
       "      <td>26</td>\n",
       "      <td>TOT</td>\n",
       "      <td>38</td>\n",
       "      <td>1.0</td>\n",
       "      <td>558</td>\n",
       "      <td>70</td>\n",
       "    </tr>\n",
       "    <tr>\n",
       "      <th>2</th>\n",
       "      <td>2017</td>\n",
       "      <td>Steven Adams</td>\n",
       "      <td>adamsst01</td>\n",
       "      <td>C</td>\n",
       "      <td>23</td>\n",
       "      <td>OKC</td>\n",
       "      <td>80</td>\n",
       "      <td>80.0</td>\n",
       "      <td>2389</td>\n",
       "      <td>374</td>\n",
       "    </tr>\n",
       "  </tbody>\n",
       "</table>\n",
       "</div>"
      ],
      "text/plain": [
       "   year        player   playerid pos  age   tm   g    gs    mp  fg_totals\n",
       "0  2017  Alex Abrines  abrinal01  SG   23  OKC  68   6.0  1055        134\n",
       "1  2017    Quincy Acy    acyqu01  PF   26  TOT  38   1.0   558         70\n",
       "2  2017  Steven Adams  adamsst01   C   23  OKC  80  80.0  2389        374"
      ]
     },
     "execution_count": 109,
     "metadata": {},
     "output_type": "execute_result"
    }
   ],
   "source": [
    "final_df.iloc[:3, :10]"
   ]
  },
  {
   "cell_type": "markdown",
   "metadata": {},
   "source": [
    "For simplicity and clarity lets create lists of the features that we are going to use along with features that we are not going to use. First will create a list manually that consists of static features. These are festures that more of less identify the player. We will then create a list that contains the response, in this case it is 'mp2018'. The final list created will be of the features that are going to be used to predict the response. This list will be created via list comprehension."
   ]
  },
  {
   "cell_type": "code",
   "execution_count": 110,
   "metadata": {
    "collapsed": true
   },
   "outputs": [],
   "source": [
    "# static features\n",
    "static_feats = ['year', 'player', 'playerid', 'pos', 'tm']\n",
    "\n",
    "# response\n",
    "response = 'mp2018'\n",
    "\n",
    "# input features\n",
    "input_features = [c for c in final_df if c not in static_feats + [response]]"
   ]
  },
  {
   "cell_type": "markdown",
   "metadata": {},
   "source": [
    "Now that the data has been transformed into an analyzable format we can instantiate a random forest model that consists of 100 trees and fit it to the data:"
   ]
  },
  {
   "cell_type": "code",
   "execution_count": 111,
   "metadata": {},
   "outputs": [
    {
     "data": {
      "text/plain": [
       "RandomForestRegressor(bootstrap=True, criterion='mse', max_depth=None,\n",
       "           max_features='auto', max_leaf_nodes=None,\n",
       "           min_impurity_split=1e-07, min_samples_leaf=1,\n",
       "           min_samples_split=2, min_weight_fraction_leaf=0.0,\n",
       "           n_estimators=100, n_jobs=1, oob_score=True, random_state=23,\n",
       "           verbose=0, warm_start=False)"
      ]
     },
     "execution_count": 111,
     "metadata": {},
     "output_type": "execute_result"
    }
   ],
   "source": [
    "NTREES = 100\n",
    "\n",
    "reg_rf = RandomForestRegressor(n_estimators=NTREES,\n",
    "                               oob_score=True,\n",
    "                               random_state=23)\n",
    "reg_rf.fit(X=final_df.loc[:, input_features],\n",
    "           y=final_df[response])"
   ]
  },
  {
   "cell_type": "markdown",
   "metadata": {},
   "source": [
    "All of the information for the 100 built decision trees is held within the estimators\\_ method. We can view the the parameters of the first tree by calling the following code:"
   ]
  },
  {
   "cell_type": "code",
   "execution_count": 112,
   "metadata": {},
   "outputs": [
    {
     "data": {
      "text/plain": [
       "DecisionTreeRegressor(criterion='mse', max_depth=None, max_features='auto',\n",
       "           max_leaf_nodes=None, min_impurity_split=1e-07,\n",
       "           min_samples_leaf=1, min_samples_split=2,\n",
       "           min_weight_fraction_leaf=0.0, presort=False,\n",
       "           random_state=74293843, splitter='best')"
      ]
     },
     "execution_count": 112,
     "metadata": {},
     "output_type": "execute_result"
    }
   ],
   "source": [
    "reg_rf.estimators_[0]"
   ]
  },
  {
   "cell_type": "markdown",
   "metadata": {},
   "source": [
    "As you can see this displays the parameters of the first decision tree. You also know that is the first decision tree because it begins with 'DecisionTreeRegressor'. The predictions that the first decision tree produces can be ascertained by tacking on the a predict method that calls the data located in 'final_df'. This returns a numpy array that is the same length as the row dimension of 'final_df':"
   ]
  },
  {
   "cell_type": "code",
   "execution_count": 113,
   "metadata": {},
   "outputs": [
    {
     "data": {
      "text/plain": [
       "True"
      ]
     },
     "execution_count": 113,
     "metadata": {},
     "output_type": "execute_result"
    }
   ],
   "source": [
    "len(reg_rf.estimators_[0].predict(X=final_df.loc[:, input_features])) == final_df.shape[0]"
   ]
  },
  {
   "cell_type": "markdown",
   "metadata": {},
   "source": [
    "Lets look at the first five entries to confirm that we the result is numpy array:"
   ]
  },
  {
   "cell_type": "code",
   "execution_count": 114,
   "metadata": {},
   "outputs": [
    {
     "data": {
      "text/plain": [
       "array([ 1134.,  1353.,  2487.,  1651.,    49.])"
      ]
     },
     "execution_count": 114,
     "metadata": {},
     "output_type": "execute_result"
    }
   ],
   "source": [
    "reg_rf.estimators_[0].predict(X=final_df.loc[:, input_features])[:5]"
   ]
  },
  {
   "cell_type": "markdown",
   "metadata": {},
   "source": [
    "With an understanding of how to acquire predictions from one tree, we can loop through each tree, calculate the predictions and then store them into a list. The number of iterations will be equal to the number of trees that are in our forest. In this case there are 100 individual trees."
   ]
  },
  {
   "cell_type": "code",
   "execution_count": 115,
   "metadata": {
    "collapsed": true
   },
   "outputs": [],
   "source": [
    "data_list = []\n",
    "for i in range(NTREES):\n",
    "    tmp_array = reg_rf.estimators_[i].predict(X=final_df.loc[:, input_features])\n",
    "    # store 'tmp_array' into a dataframe\n",
    "    tmp_tbl = pd.DataFrame(tmp_array, columns=['tree_' + str(i+1)])\n",
    "    # store the dataframe into a list\n",
    "    data_list.append(tmp_tbl)"
   ]
  },
  {
   "cell_type": "markdown",
   "metadata": {},
   "source": [
    "Next we turn our list of dataframes into one big dataframe that houses all of the predictions. This dataframe should have have the same umber of rows of 'final_df'. The number of columns should be equal to the number of trees, 100, in our forest."
   ]
  },
  {
   "cell_type": "code",
   "execution_count": 116,
   "metadata": {},
   "outputs": [
    {
     "name": "stdout",
     "output_type": "stream",
     "text": [
      "True\n"
     ]
    }
   ],
   "source": [
    "pred_df = pd.concat(data_list, axis=1)\n",
    "\n",
    "print(pred_df.shape[0] == final_df.shape[0])"
   ]
  },
  {
   "cell_type": "markdown",
   "metadata": {},
   "source": [
    "Lets view the first three rows and the first five columns of 'pred_df':"
   ]
  },
  {
   "cell_type": "code",
   "execution_count": 117,
   "metadata": {},
   "outputs": [
    {
     "data": {
      "text/html": [
       "<div>\n",
       "<style>\n",
       "    .dataframe thead tr:only-child th {\n",
       "        text-align: right;\n",
       "    }\n",
       "\n",
       "    .dataframe thead th {\n",
       "        text-align: left;\n",
       "    }\n",
       "\n",
       "    .dataframe tbody tr th {\n",
       "        vertical-align: top;\n",
       "    }\n",
       "</style>\n",
       "<table border=\"1\" class=\"dataframe\">\n",
       "  <thead>\n",
       "    <tr style=\"text-align: right;\">\n",
       "      <th></th>\n",
       "      <th>tree_1</th>\n",
       "      <th>tree_2</th>\n",
       "      <th>tree_3</th>\n",
       "      <th>tree_4</th>\n",
       "      <th>tree_5</th>\n",
       "    </tr>\n",
       "  </thead>\n",
       "  <tbody>\n",
       "    <tr>\n",
       "      <th>0</th>\n",
       "      <td>1134.0</td>\n",
       "      <td>1134.0</td>\n",
       "      <td>1134.0</td>\n",
       "      <td>2282.0</td>\n",
       "      <td>1134.0</td>\n",
       "    </tr>\n",
       "    <tr>\n",
       "      <th>1</th>\n",
       "      <td>1353.0</td>\n",
       "      <td>1359.0</td>\n",
       "      <td>1359.0</td>\n",
       "      <td>1359.0</td>\n",
       "      <td>1359.0</td>\n",
       "    </tr>\n",
       "    <tr>\n",
       "      <th>2</th>\n",
       "      <td>2487.0</td>\n",
       "      <td>2487.0</td>\n",
       "      <td>1836.0</td>\n",
       "      <td>2463.0</td>\n",
       "      <td>2487.0</td>\n",
       "    </tr>\n",
       "  </tbody>\n",
       "</table>\n",
       "</div>"
      ],
      "text/plain": [
       "   tree_1  tree_2  tree_3  tree_4  tree_5\n",
       "0  1134.0  1134.0  1134.0  2282.0  1134.0\n",
       "1  1353.0  1359.0  1359.0  1359.0  1359.0\n",
       "2  2487.0  2487.0  1836.0  2463.0  2487.0"
      ]
     },
     "execution_count": 117,
     "metadata": {},
     "output_type": "execute_result"
    }
   ],
   "source": [
    "pred_df.iloc[:3, :5]"
   ]
  },
  {
   "cell_type": "markdown",
   "metadata": {},
   "source": [
    "The one thing that 'pred_df' does not have is a player identifier. In order to add one will create a new datframe that holds the player's name and unique identifier from 'final_df' and then concatenate it to 'pred_df'."
   ]
  },
  {
   "cell_type": "code",
   "execution_count": 118,
   "metadata": {
    "collapsed": true
   },
   "outputs": [],
   "source": [
    "id_df = final_df.loc[:, ['player', 'playerid']]\n",
    "pred_df = pd.concat([id_df, pred_df], axis=1)"
   ]
  },
  {
   "cell_type": "markdown",
   "metadata": {},
   "source": [
    "Once again we will view the first three rows and the first five columns to confirm that the dataframes have been concatenated correctly. The result should contain two columns that correspond to the player's name and unique identifier and three columns that correspond to the predictions from the first three trees."
   ]
  },
  {
   "cell_type": "code",
   "execution_count": 119,
   "metadata": {},
   "outputs": [
    {
     "data": {
      "text/html": [
       "<div>\n",
       "<style>\n",
       "    .dataframe thead tr:only-child th {\n",
       "        text-align: right;\n",
       "    }\n",
       "\n",
       "    .dataframe thead th {\n",
       "        text-align: left;\n",
       "    }\n",
       "\n",
       "    .dataframe tbody tr th {\n",
       "        vertical-align: top;\n",
       "    }\n",
       "</style>\n",
       "<table border=\"1\" class=\"dataframe\">\n",
       "  <thead>\n",
       "    <tr style=\"text-align: right;\">\n",
       "      <th></th>\n",
       "      <th>player</th>\n",
       "      <th>playerid</th>\n",
       "      <th>tree_1</th>\n",
       "      <th>tree_2</th>\n",
       "      <th>tree_3</th>\n",
       "    </tr>\n",
       "  </thead>\n",
       "  <tbody>\n",
       "    <tr>\n",
       "      <th>0</th>\n",
       "      <td>Alex Abrines</td>\n",
       "      <td>abrinal01</td>\n",
       "      <td>1134.0</td>\n",
       "      <td>1134.0</td>\n",
       "      <td>1134.0</td>\n",
       "    </tr>\n",
       "    <tr>\n",
       "      <th>1</th>\n",
       "      <td>Quincy Acy</td>\n",
       "      <td>acyqu01</td>\n",
       "      <td>1353.0</td>\n",
       "      <td>1359.0</td>\n",
       "      <td>1359.0</td>\n",
       "    </tr>\n",
       "    <tr>\n",
       "      <th>2</th>\n",
       "      <td>Steven Adams</td>\n",
       "      <td>adamsst01</td>\n",
       "      <td>2487.0</td>\n",
       "      <td>2487.0</td>\n",
       "      <td>1836.0</td>\n",
       "    </tr>\n",
       "  </tbody>\n",
       "</table>\n",
       "</div>"
      ],
      "text/plain": [
       "         player   playerid  tree_1  tree_2  tree_3\n",
       "0  Alex Abrines  abrinal01  1134.0  1134.0  1134.0\n",
       "1    Quincy Acy    acyqu01  1353.0  1359.0  1359.0\n",
       "2  Steven Adams  adamsst01  2487.0  2487.0  1836.0"
      ]
     },
     "execution_count": 119,
     "metadata": {},
     "output_type": "execute_result"
    }
   ],
   "source": [
    "pred_df.iloc[:3, :5]"
   ]
  },
  {
   "cell_type": "markdown",
   "metadata": {},
   "source": [
    "Know that we have all the predictions into a nice table we can begin to visualize the distrubutions of individual players. This can be done by creating a dataframe that includes only the trees of a particular player and then pass it to a visualiztion package such as matplotlib or seaborn. Let's go through this step-by-step:"
   ]
  },
  {
   "cell_type": "code",
   "execution_count": 120,
   "metadata": {
    "collapsed": true
   },
   "outputs": [],
   "source": [
    "# Step 1: create datframe of particular player\n",
    "player_name = 'LeBron James'\n",
    "tree_cols = [t for t in pred_tbl if 'tree_' in t]\n",
    "player_tbl = pred_tbl.loc[pred_tbl['player'] == player_name, tree_cols]"
   ]
  },
  {
   "cell_type": "code",
   "execution_count": 129,
   "metadata": {},
   "outputs": [
    {
     "data": {
      "image/png": "[encoded data removed]",
      "text/plain": [
       "<matplotlib.figure.Figure at 0x11cc11390>"
      ]
     },
     "metadata": {},
     "output_type": "display_data"
    }
   ],
   "source": [
    "# Step 2: pass this dataframe into visualization package, here we are using\n",
    "#  seaborn with a matplotlib backend\n",
    "plt.figure(figsize=(12, 5))\n",
    "sns.distplot(player_tbl)\n",
    "plt.title('{} 2018 MP Distrubution'.format(player_name))\n",
    "plt.xlabel('MP Predictions')\n",
    "plt.xlim(0)\n",
    "plt.savefig('distLJ.png')"
   ]
  },
  {
   "cell_type": "markdown",
   "metadata": {},
   "source": [
    "Lets say that you do not know all of the player's names in the dataframe and simply want to visualize a random instance. This can be done by passing in an integer that corresponds to an associated row number. The caveat being that the integer passed has to reside in the row range of the respective dataframe. An example of this is implemented in the following code: "
   ]
  },
  {
   "cell_type": "code",
   "execution_count": 128,
   "metadata": {},
   "outputs": [
    {
     "data": {
      "text/plain": [
       "(0, 2168.8689216030607)"
      ]
     },
     "execution_count": 128,
     "metadata": {},
     "output_type": "execute_result"
    },
    {
     "data": {
      "image/png": "[encoded data removed]",
      "text/plain": [
       "<matplotlib.figure.Figure at 0x122865da0>"
      ]
     },
     "metadata": {},
     "output_type": "display_data"
    }
   ],
   "source": [
    "# assign a random number to a variable object\n",
    "random_int = np.random.randint(0, pred_tbl.shape[0])\n",
    "\n",
    "# get only the columns from 'pred_tbl' that are needed\n",
    "tree_cols = [t for t in pred_tbl if 'tree_' in t]\n",
    "\n",
    "# create dataframe\n",
    "player_int_tbl = pred_tbl.loc[random_int, tree_cols]\n",
    "\n",
    "# get players name\n",
    "player_int_name = pred_tbl.loc[random_int, 'player']\n",
    "\n",
    "# graph distrubution\n",
    "plt.figure(figsize=(12, 5))\n",
    "sns.distplot(player_int_tbl)\n",
    "plt.title('{} 2018 MP Distrubution'.format(player_int_name))\n",
    "plt.xlabel('MP Predictions')\n",
    "plt.xlim(0)\n",
    "plt.savefig('randomDist.png')"
   ]
  },
  {
   "cell_type": "markdown",
   "metadata": {},
   "source": [
    "There you have it; a way to visualize the distrubution of the predictions of a random forest. From here you can determine summary statistics for each player's predictions to better understand the distrubution. I hope that this article was informative and opened a new way to look at the inner workings of a random forest. If you liked it please show your appreciation with claps."
   ]
  },
  {
   "cell_type": "markdown",
   "metadata": {},
   "source": [
    "#### Link to data and code\n",
    "\n",
    "https://github.com/jharmitage23/Distrubution-of-Random-Forest-Predictions"
   ]
  }
 ],
 "metadata": {
  "kernelspec": {
   "display_name": "Python 3",
   "language": "python",
   "name": "python3"
  },
  "language_info": {
   "codemirror_mode": {
    "name": "ipython",
    "version": 3
   },
   "file_extension": ".py",
   "mimetype": "text/x-python",
   "name": "python",
   "nbconvert_exporter": "python",
   "pygments_lexer": "ipython3",
   "version": "3.6.2"
  }
 },
 "nbformat": 4,
 "nbformat_minor": 2
}
